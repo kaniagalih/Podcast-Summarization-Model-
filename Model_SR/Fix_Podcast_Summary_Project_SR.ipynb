{
  "nbformat": 4,
  "nbformat_minor": 0,
  "metadata": {
    "colab": {
      "private_outputs": true,
      "provenance": [],
      "gpuType": "T4",
      "collapsed_sections": [
        "XqbGR-_5m5ow",
        "xx37E6jZnKwW",
        "14f80afXouJI",
        "sYWjHPmdpWID",
        "F0bea8VvrJIV"
      ]
    },
    "kernelspec": {
      "name": "python3",
      "display_name": "Python 3"
    },
    "language_info": {
      "name": "python"
    },
    "accelerator": "GPU"
  },
  "cells": [
    {
      "cell_type": "markdown",
      "source": [
        "####Download Video form Youtube"
      ],
      "metadata": {
        "id": "XqbGR-_5m5ow"
      }
    },
    {
      "cell_type": "code",
      "source": [
        "#Library for downloading youtube vid \n",
        "!pip install pytube "
      ],
      "metadata": {
        "id": "gizlaEbul3N7"
      },
      "execution_count": null,
      "outputs": []
    },
    {
      "cell_type": "code",
      "source": [
        "from pytube import YouTube "
      ],
      "metadata": {
        "id": "IZMdIU_Cl-Sq"
      },
      "execution_count": null,
      "outputs": []
    },
    {
      "cell_type": "code",
      "source": [
        "youtube_video = \"https://www.youtube.com/watch?v=5-rCKo4CBgM\""
      ],
      "metadata": {
        "id": "YsYYyGNZmC5n"
      },
      "execution_count": null,
      "outputs": []
    },
    {
      "cell_type": "code",
      "source": [
        "yt = YouTube(youtube_video)"
      ],
      "metadata": {
        "id": "9Fz8QyU8mVmq"
      },
      "execution_count": null,
      "outputs": []
    },
    {
      "cell_type": "code",
      "source": [
        "#Download audio from youtube\n",
        "#filtering only mp4 (.filter)\n",
        "#return objek yang memenuhi kondisi (.first)\n",
        "\n",
        "yt.streams\\\n",
        "    .filter(only_audio = True, file_extension = 'mp4')\\\n",
        "    .first()\\\n",
        "    .download(filename ='audio.mp4')"
      ],
      "metadata": {
        "id": "2ylqTjcdmYlN"
      },
      "execution_count": null,
      "outputs": []
    },
    {
      "cell_type": "code",
      "source": [
        "import IPython.display as display"
      ],
      "metadata": {
        "id": "4n_AWYsPlDaM"
      },
      "execution_count": null,
      "outputs": []
    },
    {
      "cell_type": "code",
      "source": [
        "path = \"/content/audio.mp4\""
      ],
      "metadata": {
        "id": "GmtHSvlEksG7"
      },
      "execution_count": null,
      "outputs": []
    },
    {
      "cell_type": "code",
      "source": [
        "display.Audio(path, autoplay=True)"
      ],
      "metadata": {
        "id": "_0jeERfdkmi8"
      },
      "execution_count": null,
      "outputs": []
    },
    {
      "cell_type": "code",
      "source": [
        "#convert mp4 to wav\n",
        "! ffmpeg -i audio.mp4 -acodec pcm_s16le -ar 16000 audio.wav"
      ],
      "metadata": {
        "id": "hrC81yR_mqrP"
      },
      "execution_count": null,
      "outputs": []
    },
    {
      "cell_type": "markdown",
      "source": [
        "####ASR "
      ],
      "metadata": {
        "id": "xx37E6jZnKwW"
      }
    },
    {
      "cell_type": "code",
      "source": [
        "!pip install torch --upgrade"
      ],
      "metadata": {
        "id": "yuR2EYyQv5bG"
      },
      "execution_count": null,
      "outputs": []
    },
    {
      "cell_type": "code",
      "source": [
        "!pip install huggingsound --upgrade"
      ],
      "metadata": {
        "id": "BXcKjV1AnH4c"
      },
      "execution_count": null,
      "outputs": []
    },
    {
      "cell_type": "code",
      "source": [
        "from huggingsound import SpeechRecognitionModel\n",
        "import torch"
      ],
      "metadata": {
        "id": "Itgg9F0NnQ4f"
      },
      "execution_count": null,
      "outputs": []
    },
    {
      "cell_type": "code",
      "source": [
        "#Checking GPU if CUDA enabled -> output cuda, if not output will be cpu\n",
        "device = \"cuda\" if torch.cuda.is_available() else \"cpu\""
      ],
      "metadata": {
        "id": "IrV4ch_voODn"
      },
      "execution_count": null,
      "outputs": []
    },
    {
      "cell_type": "code",
      "source": [
        "device"
      ],
      "metadata": {
        "id": "0w4RyuOCoTaD"
      },
      "execution_count": null,
      "outputs": []
    },
    {
      "cell_type": "code",
      "source": [
        "#pretrained model using wav2vec2 for\n",
        "model = SpeechRecognitionModel(\"jonatasgrosman/wav2vec2-large-xlsr-53-english\", device=device)"
      ],
      "metadata": {
        "id": "IqQq9TOOoUKt"
      },
      "execution_count": null,
      "outputs": []
    },
    {
      "cell_type": "markdown",
      "source": [
        "####Audio Slicing"
      ],
      "metadata": {
        "id": "14f80afXouJI"
      }
    },
    {
      "cell_type": "code",
      "source": [
        "import librosa\n",
        "import soundfile as sf"
      ],
      "metadata": {
        "id": "XaxtBEb0ofQE"
      },
      "execution_count": null,
      "outputs": []
    },
    {
      "cell_type": "code",
      "source": [
        "input_file ='/content/audio.wav'"
      ],
      "metadata": {
        "id": "2cPuT4q5oxhW"
      },
      "execution_count": null,
      "outputs": []
    },
    {
      "cell_type": "code",
      "source": [
        "# to retrieve the sampling rate of an audio file\n",
        "print(librosa.get_samplerate(input_file)) \n",
        "\n",
        "stream = librosa.stream(\n",
        "    input_file,\n",
        "    block_length=30, #Slicing duration to 30 seconds\n",
        "    frame_length=16000, #length of each audio frame per block\n",
        "    hop_length=16000 #overlap between gap, set to 16000 means that there is no overlap\n",
        ")"
      ],
      "metadata": {
        "id": "yY0hkEXJo04h"
      },
      "execution_count": null,
      "outputs": []
    },
    {
      "cell_type": "code",
      "source": [
        "#Save slicing result from \"stream\"\n",
        "for i, speech in enumerate(stream):\n",
        "  sf.write(f'{i}.wav', speech, 16000) #to write audio data to a file"
      ],
      "metadata": {
        "id": "yo15h0vHpDC9"
      },
      "execution_count": null,
      "outputs": []
    },
    {
      "cell_type": "code",
      "source": [
        "i"
      ],
      "metadata": {
        "id": "N9_V9ReRpQuM"
      },
      "execution_count": null,
      "outputs": []
    },
    {
      "cell_type": "markdown",
      "source": [
        "####Audio Transcript (Speech to Text)"
      ],
      "metadata": {
        "id": "sYWjHPmdpWID"
      }
    },
    {
      "cell_type": "code",
      "source": [
        "#Generate list of audio \n",
        "audio_path = []\n",
        "for a in range(i+1):\n",
        "  audio_path.append(f'/content/{a}.wav')"
      ],
      "metadata": {
        "id": "FgFXQgyMqj8X"
      },
      "execution_count": null,
      "outputs": []
    },
    {
      "cell_type": "code",
      "source": [
        "audio_path"
      ],
      "metadata": {
        "id": "sHY9gO5BqsOp"
      },
      "execution_count": null,
      "outputs": []
    },
    {
      "cell_type": "code",
      "source": [
        "#transcript audio_path and stored in the transcriptions \n",
        "transcriptions = model.transcribe(audio_path)"
      ],
      "metadata": {
        "id": "FuAVpcyzqucc"
      },
      "execution_count": null,
      "outputs": []
    },
    {
      "cell_type": "code",
      "source": [
        "full_transcript = \"\""
      ],
      "metadata": {
        "id": "6BC7LF5uqx_-"
      },
      "execution_count": null,
      "outputs": []
    },
    {
      "cell_type": "code",
      "source": [
        "#combine all transcript in full_transcript\n",
        "for i in transcriptions :\n",
        "  full_transcript += ''.join(i['transcription'])"
      ],
      "metadata": {
        "id": "WcRvB5RAq7pT"
      },
      "execution_count": null,
      "outputs": []
    },
    {
      "cell_type": "code",
      "source": [
        "#length of characters \n",
        "len(full_transcript)"
      ],
      "metadata": {
        "id": "bdj3FqbVrDY_"
      },
      "execution_count": null,
      "outputs": []
    },
    {
      "cell_type": "code",
      "source": [
        "import pprint"
      ],
      "metadata": {
        "id": "2l00aKvu_TCr"
      },
      "execution_count": null,
      "outputs": []
    },
    {
      "cell_type": "code",
      "source": [
        "pprint.pprint(full_transcript)"
      ],
      "metadata": {
        "id": "bPT0qduC_Lhd"
      },
      "execution_count": null,
      "outputs": []
    },
    {
      "cell_type": "code",
      "source": [
        "#Save full_transcript to txt file \n",
        "transcript_file = \"/content/transcript.txt\"\n",
        "\n",
        "#open file \n",
        "with open(transcript_file, \"w\") as file:\n",
        "  file.write(full_transcript)\n",
        "\n",
        "print(\"Transcript saved to\", transcript_file)"
      ],
      "metadata": {
        "id": "bwvODd7E_wUs"
      },
      "execution_count": null,
      "outputs": []
    },
    {
      "cell_type": "code",
      "source": [
        "with open(\"transcript.txt\", \"r\") as file:\n",
        "  trans = file.read().replace('\\n', '')\n",
        "trans = trans.replace(\"\\ufeff\", \"\")"
      ],
      "metadata": {
        "id": "8WFhAGhQDetJ"
      },
      "execution_count": null,
      "outputs": []
    },
    {
      "cell_type": "markdown",
      "source": [
        "####Text Summarizer"
      ],
      "metadata": {
        "id": "F0bea8VvrJIV"
      }
    },
    {
      "cell_type": "code",
      "source": [
        "!pip install --upgrade transformers"
      ],
      "metadata": {
        "id": "GFq_hZPjqLcI"
      },
      "execution_count": null,
      "outputs": []
    },
    {
      "cell_type": "code",
      "source": [
        "#pipeline library in transformers, used for summaryzation\n",
        "from transformers import pipeline"
      ],
      "metadata": {
        "id": "llRw3VbCpVBC"
      },
      "execution_count": null,
      "outputs": []
    },
    {
      "cell_type": "code",
      "source": [
        "#pretrained model for summarization using bart using CNN daily mail dataset \n",
        "bart_model =\"facebook/bart-large-cnn\"\n",
        "summarization = pipeline('summarization', model=bart_model)"
      ],
      "metadata": {
        "id": "1_rq7PYXpebP"
      },
      "execution_count": null,
      "outputs": []
    },
    {
      "cell_type": "code",
      "source": [
        "# summarized_text = summarization(full_transcript)"
      ],
      "metadata": {
        "id": "NajtcEZcprl7"
      },
      "execution_count": null,
      "outputs": []
    },
    {
      "cell_type": "code",
      "source": [
        "# summarized_text[0]['summary_text']"
      ],
      "metadata": {
        "id": "0d9MY0aPrrkm"
      },
      "execution_count": null,
      "outputs": []
    },
    {
      "cell_type": "code",
      "source": [
        "#summarize per 500 characters \n",
        "num_iters = int(len(full_transcript)/500)\n",
        "summarized_text = []\n",
        "for i in range(0, num_iters + 1):\n",
        "  start = 0\n",
        "  start = i * 500\n",
        "  end = (i + 1) * 500\n",
        "  print(\"INPUT TEXT\")\n",
        "  pprint.pprint(full_transcript[start:end])\n",
        "  out = summarization(full_transcript[start:end], min_length = 5, max_length=50)\n",
        "  out = out[0]\n",
        "  out = out['summary_text']\n",
        "  print(\"SUMMARY TEXT\")\n",
        "  pprint.pprint(out)\n",
        "  summarized_text.append(out)"
      ],
      "metadata": {
        "id": "5HZf10tjrvLL"
      },
      "execution_count": null,
      "outputs": []
    },
    {
      "cell_type": "code",
      "source": [
        "len(str(summarized_text))"
      ],
      "metadata": {
        "id": "mkRhSxqi9FUq"
      },
      "execution_count": null,
      "outputs": []
    },
    {
      "cell_type": "code",
      "source": [
        "summary = \" \".join(summarized_text)\n",
        "pprint.pprint(summary)"
      ],
      "metadata": {
        "id": "zoRU3brU9Fy6"
      },
      "execution_count": null,
      "outputs": []
    },
    {
      "cell_type": "code",
      "source": [
        "#save summary result to txt file \n",
        "result = \"/content/summary_result.txt\"\n",
        "\n",
        "with open(result, \"w\") as file:\n",
        "  file.write(summary)\n",
        "\n",
        "print(\"Summary Result saved to\", result)"
      ],
      "metadata": {
        "id": "jCEkLE8UChEX"
      },
      "execution_count": null,
      "outputs": []
    },
    {
      "cell_type": "markdown",
      "source": [
        "##Evaluation "
      ],
      "metadata": {
        "id": "FOrL7pGx6Id_"
      }
    },
    {
      "cell_type": "markdown",
      "source": [
        "Matrix evaluation using ROUGE for BART pretrained model \n",
        "\n",
        "Doing evaluation compared summarization using BART model and human summarization"
      ],
      "metadata": {
        "id": "fpsl-_Eh-YwK"
      }
    },
    {
      "cell_type": "code",
      "source": [
        "#Summary result without pretrained model -> only using pipeline from transformer \n",
        "with open(\"summary_Pip.txt\", 'r') as file:\n",
        "  data1 = file.read().replace('\\n', '')\n",
        "data1 = data1.replace(\"\\ufeff\",\"\")"
      ],
      "metadata": {
        "id": "3HUlPeLgqtZs"
      },
      "execution_count": null,
      "outputs": []
    },
    {
      "cell_type": "code",
      "source": [
        "#Summary result using BART model \n",
        "with open(\"summary_result.txt\", 'r') as file:\n",
        "  data2 = file.read().replace('\\n', '')\n",
        "data2 = data2.replace(\"\\ufeff\",\"\")"
      ],
      "metadata": {
        "id": "uRULe5mbsB-s"
      },
      "execution_count": null,
      "outputs": []
    },
    {
      "cell_type": "code",
      "source": [
        "!pip install rouge "
      ],
      "metadata": {
        "id": "NQq1Id3q6LAd"
      },
      "execution_count": null,
      "outputs": []
    },
    {
      "cell_type": "code",
      "source": [
        "from rouge import Rouge"
      ],
      "metadata": {
        "id": "XqZWIFZP6okb"
      },
      "execution_count": null,
      "outputs": []
    },
    {
      "cell_type": "code",
      "source": [
        "rouge1 = Rouge()"
      ],
      "metadata": {
        "id": "ianrpeCE-ECN"
      },
      "execution_count": null,
      "outputs": []
    },
    {
      "cell_type": "code",
      "source": [
        "score = rouge1.get_scores(data1, data2, avg=True)"
      ],
      "metadata": {
        "id": "ywhdanvN-Hn3"
      },
      "execution_count": null,
      "outputs": []
    },
    {
      "cell_type": "code",
      "source": [
        "print(score)"
      ],
      "metadata": {
        "id": "nfzYlpTZxKKG"
      },
      "execution_count": null,
      "outputs": []
    },
    {
      "cell_type": "markdown",
      "source": [
        "Matrix Evaluation using WER for wav2vec2 pretrained model \n",
        "\n",
        "Compared transcript result using API and wav2vec2"
      ],
      "metadata": {
        "id": "C-gDNQKGGDDw"
      }
    },
    {
      "cell_type": "code",
      "source": [
        "import nltk"
      ],
      "metadata": {
        "id": "aDfMRRU5J-tE"
      },
      "execution_count": null,
      "outputs": []
    },
    {
      "cell_type": "code",
      "source": [
        "#Transcript result using youtube api\n",
        "with open(\"transcript_api.txt\", 'r') as file:\n",
        "  data3 = file.read().replace('\\n', '')\n",
        "data3 = data1.replace(\"\\ufeff\",\"\")"
      ],
      "metadata": {
        "id": "r3ATv2lPK5b9"
      },
      "execution_count": null,
      "outputs": []
    },
    {
      "cell_type": "code",
      "source": [
        "#Transcript result using wav2vec2\n",
        "with open(\"transcript.txt\", 'r') as file:\n",
        "  data4 = file.read().replace('\\n', '')\n",
        "data4 = data1.replace(\"\\ufeff\",\"\")"
      ],
      "metadata": {
        "id": "iDoQHLdPLNt0"
      },
      "execution_count": null,
      "outputs": []
    },
    {
      "cell_type": "code",
      "source": [
        "def calculate_wer(data3, data4):\n",
        "  with open(\"transcript_api.txt\", 'r') as file:\n",
        "    data3 = file.read().strip().lower().split()\n",
        "\n",
        "  with open(\"transcript.txt\", 'r') as file:\n",
        "    data4 = file.read().strip().lower().split()\n",
        "\n",
        "  wer = nltk.edit_distance(data3, data4) / len(data3)\n",
        "  return wer"
      ],
      "metadata": {
        "id": "fvKRZtW0MSgv"
      },
      "execution_count": null,
      "outputs": []
    },
    {
      "cell_type": "code",
      "source": [
        "ref = \"transcript_api.txt\"\n",
        "hyp = \"transcript.txt\""
      ],
      "metadata": {
        "id": "953hFfAHNzp_"
      },
      "execution_count": null,
      "outputs": []
    },
    {
      "cell_type": "code",
      "source": [
        "score = calculate_wer(ref, hyp)"
      ],
      "metadata": {
        "id": "pG9nkxcGLZt8"
      },
      "execution_count": null,
      "outputs": []
    },
    {
      "cell_type": "code",
      "source": [
        "print(\"WER Score :\", score)"
      ],
      "metadata": {
        "id": "DjO3aot_L8fW"
      },
      "execution_count": null,
      "outputs": []
    }
  ]
}